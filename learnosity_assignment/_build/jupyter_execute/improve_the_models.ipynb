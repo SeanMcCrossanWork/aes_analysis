{
 "cells": [
  {
   "cell_type": "markdown",
   "metadata": {
    "id": "eYcMkYmADCZx"
   },
   "source": [
    "## How to Improve The Models\n",
    "\n",
    "In this section, we will focus on predicting the total score rather than the individual traits from the rubric. The reasons for this approach are:\n",
    "\n",
    "- **Time Limitations** \n",
    "- **Data Limitations**: The data does not indicate which trait score maps to specific rubric criteria, such as style and conventions (grammar). For example, conventions might be better handled by a separate model due to its more objective nature.\n",
    "\n",
    "Based on the available information, it is unclear how the models were initially built. What we do know is that neither model performed particularly well concerning the Quadratic Weighted Kappa (QWK) metric. Model 1 had a QWK score of 0.336, and Model 2 had a score of 0.344. While these scores indicate some degree of agreement, they fall short of demonstrating robust alignment with human raters. This presents an opportunity to improve these models' performance.\n",
    "\n",
    "### From the Research\n",
    "\n",
    "After initial research into this problem, I identified three potential ways to improve automated assessment scoring:\n",
    "\n",
    "1. **Feature Extraction Methods**: The models may be using older feature extraction methods, such as bag of words. In a comparative study by Ramesh & Sanampudi (2022), it was found that models using pre-trained word embeddings like Word2Vec and Glove as part of their classification, regression, or LSTM-based models performed better in terms of QWK scores.\n",
    "   \n",
    "2. **Large Language Models (LLMs)**: Recent literature discusses LLMs for assessment scoring. While they did not outperform state-of-the-art models in pure assessment scoring (Mansour et al., 2024), they show promise in providing feedback to students and excel at grading objective assessments, such as those in science (Impey et al., 2024).\n",
    "\n",
    "3. **Fine-Tuning Pre-trained Language Models**: Fine-tuning a pre-trained language model such as BERT has shown extraordinary abilities in representation and generalization (Yang et al., 2020).\n",
    "\n",
    "The most promising option is to apply transfer learning to a pre-trained BERT model and fine-tune it using the given data, which is outlined in the rest of this notebook.\n",
    "\n",
    "### Summary of Results\n",
    "\n",
    "The fine-tuned BERT model was evaluated with a QWK score of 0.79, which is a significant improvement over the previous models. This high level of agreement suggests that the model's predictions are close to the actual scores.\n",
    "\n",
    "However, in Yang et al. (2020), a R2BERT model (BERT with Regression and Ranking) achieved a QWK score of 0.84 on the same dataset. Considering the rapid advancements in this field, it is likely that newer models have achieved even better scores.\n",
    "\n",
    "### Prepping The Data\n",
    "\n",
    "Follow the same method as the previous notebook.\n"
   ]
  },
  {
   "cell_type": "code",
   "execution_count": 1,
   "metadata": {
    "colab": {
     "base_uri": "https://localhost:8080/"
    },
    "id": "JwYOS4RLDCZz",
    "outputId": "10a1c1a1-45ca-4815-e6a2-fd8de7b025ac",
    "tags": [
     "hide-input"
    ]
   },
   "outputs": [
    {
     "name": "stdout",
     "output_type": "stream",
     "text": [
      "Shape of the combined DataFrame: (1542, 29)\n"
     ]
    }
   ],
   "source": [
    "import pandas as pd\n",
    "import numpy as np\n",
    "\n",
    "# Path to the CSV file\n",
    "essay_path = 'essay-7-all.csv'\n",
    "results_3_path = 'results-3.csv'\n",
    "results_4_path = 'results-4.csv'\n",
    "\n",
    "# Reading the CSV file into a DataFrame\n",
    "essay_df = pd.read_csv(essay_path)\n",
    "results_3_df = pd.read_csv(results_3_path)\n",
    "results_4_df = pd.read_csv(results_4_path)\n",
    "\n",
    "# Removing columns where all values are null\n",
    "essay_df = essay_df.dropna(axis=1, how='all')\n",
    "results_3_df = results_3_df.dropna(axis=1, how='all')\n",
    "results_4_df = results_4_df.dropna(axis=1, how='all')\n",
    "\n",
    "\n",
    "# Remove the error records from both datasets\n",
    "# Filtering out rows where 'error_count' is greater than 0\n",
    "results_3_df = results_3_df[results_3_df['error_count'] == 0]\n",
    "results_4_df = results_4_df[results_4_df['error_count'] == 0]\n",
    "\n",
    "# Checking the uniqueness of essay_id in each dataframe\n",
    "if (essay_df['essay_id'].nunique() == len(essay_df) and\n",
    "    results_3_df['essay_id'].nunique() == len(results_3_df) and\n",
    "    results_4_df['essay_id'].nunique() == len(results_4_df)):\n",
    "\n",
    "    # Selecting and renaming the necessary columns from essay_df, and making a copy\n",
    "    essay_columns = essay_df[['essay_id', 'essay', 'rater1_trait1', 'rater1_trait2', 'rater1_trait3', 'rater1_trait4', 'rater1_domain1', 'rater2_trait1', 'rater2_trait2', 'rater2_trait3', 'rater2_trait4', 'rater2_domain1']].copy()\n",
    "    essay_columns.rename(columns={'rater1_domain1': 'rater1_total', 'rater2_domain1': 'rater2_total'}, inplace=True)\n",
    "\n",
    "    # Selecting, renaming, and calculating the total score for results_3_df, and making a copy\n",
    "    results_3_columns = results_3_df[['essay_id', 'model', 'autoscore_trait1', 'autoscore_trait2', 'autoscore_trait3', 'autoscore_trait4']].copy()\n",
    "    results_3_columns.rename(columns={\n",
    "        'model': 'model_1_name',\n",
    "        'autoscore_trait1': 'model_1_trait1',\n",
    "        'autoscore_trait2': 'model_1_trait2',\n",
    "        'autoscore_trait3': 'model_1_trait3',\n",
    "        'autoscore_trait4': 'model_1_trait4'\n",
    "    }, inplace=True)\n",
    "    results_3_columns['model_1_total_score'] = results_3_columns.loc[:, ['model_1_trait1', 'model_1_trait2', 'model_1_trait3', 'model_1_trait4']].sum(axis=1)\n",
    "\n",
    "    # Selecting, renaming, and calculating the total score for results_4_df, and making a copy\n",
    "    results_4_columns = results_4_df[['essay_id', 'model', 'autoscore_trait1', 'autoscore_trait2', 'autoscore_trait3', 'autoscore_trait4']].copy()\n",
    "    results_4_columns.rename(columns={\n",
    "        'model': 'model_2_name',\n",
    "        'autoscore_trait1': 'model_2_trait1',\n",
    "        'autoscore_trait2': 'model_2_trait2',\n",
    "        'autoscore_trait3': 'model_2_trait3',\n",
    "        'autoscore_trait4': 'model_2_trait4'\n",
    "    }, inplace=True)\n",
    "    results_4_columns['model_2_total_score'] = results_4_columns.loc[:, ['model_2_trait1', 'model_2_trait2', 'model_2_trait3', 'model_2_trait4']].sum(axis=1)\n",
    "\n",
    "    # Merging the DataFrames on 'essay_id'\n",
    "    merged_df = pd.merge(essay_columns, results_3_columns, on='essay_id', how='left')\n",
    "    df = pd.merge(merged_df, results_4_columns, on='essay_id', how='left')\n",
    "\n",
    "    # Remove all rows with any missing values\n",
    "    df = df.dropna()\n",
    "\n",
    "else:\n",
    "    print(\"Data integrity check failed: duplicate essay_id found in one or more DataFrames.\")\n",
    "\n",
    "\n",
    "\n",
    "# Calculate the whole number average of human rater scores for each trait and create new columns\n",
    "df['human_avg_trait1'] = np.round(df[['rater1_trait1', 'rater2_trait1']].mean(axis=1))\n",
    "df['human_avg_trait2'] = np.round(df[['rater1_trait2', 'rater2_trait2']].mean(axis=1))\n",
    "df['human_avg_trait3'] = np.round(df[['rater1_trait3', 'rater2_trait3']].mean(axis=1))\n",
    "df['human_avg_trait4'] = np.round(df[['rater1_trait4', 'rater2_trait4']].mean(axis=1))\n",
    "\n",
    "# Calculate the overall whole number average score combining all traits from both raters\n",
    "df['human_avg_score'] = np.round(df[['rater1_total', 'rater2_total']].mean(axis=1))\n",
    "\n",
    "\n",
    "# Note on scoring:\n",
    "# This approach of averaging and rounding might still favor the higher marker, especially noticeable with only two raters.\n",
    "# Ideally, having an odd number of raters, such as three, could help mitigate this bias, as it allows for a median value that might better represent a consensus score.\n",
    "\n",
    "print(\"Shape of the combined DataFrame:\", df.shape)"
   ]
  },
  {
   "cell_type": "markdown",
   "metadata": {},
   "source": [
    "1. **EssayDataset Class**:\n",
    "   - Manages essays and their scores.\n",
    "   - Provides methods to get the number of essays and to retrieve a specific essay and its score.\n",
    "\n",
    "2. **collate_batch Function**:\n",
    "   - Prepares a batch of essays and scores for training.\n",
    "   - Pads essays to the same length and converts scores to tensors.\n",
    "   - Returns the processed batch for use in model training."
   ]
  },
  {
   "cell_type": "code",
   "execution_count": 2,
   "metadata": {
    "id": "fMON4vOBDCZ0"
   },
   "outputs": [],
   "source": [
    "from torch.nn.utils.rnn import pad_sequence\n",
    "from torch.utils.data import DataLoader, Dataset\n",
    "import torch\n",
    "\n",
    "class EssayDataset(Dataset):\n",
    "    def __init__(self, essays, scores):\n",
    "        self.essays = essays\n",
    "        self.scores = scores\n",
    "\n",
    "    def __len__(self):\n",
    "        return len(self.essays)\n",
    "\n",
    "    def __getitem__(self, idx):\n",
    "        # Make sure essays are already tokenized and converted into tensors here\n",
    "        return self.essays[idx], self.scores[idx]\n",
    "\n",
    "def collate_batch(batch):\n",
    "    essay_tensors, scores = zip(*batch)\n",
    "    essays_padded = pad_sequence(essay_tensors, batch_first=True, padding_value=0)\n",
    "    scores_tensor = torch.tensor(scores, dtype=torch.float)  # Ensure scores are correctly formatted as tensors\n",
    "    return essays_padded, scores_tensor\n"
   ]
  },
  {
   "cell_type": "markdown",
   "metadata": {},
   "source": [
    "### EssayScoringModel Class\n",
    "   - Initializes with a pre-trained BERT model and a regression layer.\n",
    "   - Implements a forward method to pass input through BERT and then through the regression layer to output a score."
   ]
  },
  {
   "cell_type": "code",
   "execution_count": 3,
   "metadata": {
    "id": "2WRPPe3ODCZ0"
   },
   "outputs": [
    {
     "name": "stderr",
     "output_type": "stream",
     "text": [
      "/Users/seanmccrossan/.pyenv/versions/3.10.4/envs/learnosity/lib/python3.10/site-packages/tqdm/auto.py:21: TqdmWarning: IProgress not found. Please update jupyter and ipywidgets. See https://ipywidgets.readthedocs.io/en/stable/user_install.html\n",
      "  from .autonotebook import tqdm as notebook_tqdm\n"
     ]
    }
   ],
   "source": [
    "from transformers import BertModel\n",
    "from torch import nn\n",
    "\n",
    "class EssayScoringModel(nn.Module):\n",
    "    def __init__(self):\n",
    "        super(EssayScoringModel, self).__init__()\n",
    "        self.bert = BertModel.from_pretrained('bert-base-uncased')  # Load pre-trained BERT\n",
    "        self.regressor = nn.Linear(768, 1)  # A regression layer: BERT's hidden size to 1 output\n",
    "\n",
    "    def forward(self, input_ids, attention_mask=None):\n",
    "        # Forward pass through BERT and the regressor\n",
    "        outputs = self.bert(input_ids=input_ids, attention_mask=attention_mask)\n",
    "        pooled_output = outputs[1]  # Get the pooled output features from BERT\n",
    "        score = self.regressor(pooled_output)  # Pass BERT output through the regressor to get the score\n",
    "        return score\n"
   ]
  },
  {
   "cell_type": "markdown",
   "metadata": {},
   "source": [
    "### Preparing Data for BERT Model\n",
    "\n",
    "1. **Tokenization**:\n",
    "   - Load the pre-trained BERT tokenizer and tokenize each essay, adding special tokens and truncating to 512 tokens.\n",
    "\n",
    "2. **Train-Test Split**:\n",
    "   - Split the data into training (70%) and testing (30%) datasets based on the calculated size.\n",
    "\n",
    "3. **Custom Collate Function**:\n",
    "   - Define a function to prepare batches by padding essays to the same length and converting scores to tensors.\n",
    "\n",
    "4. **Data Loaders**:\n",
    "   - Create DataLoader objects for training and testing datasets, using the custom collate function, parallel data loading, and pinned memory for efficiency.\n"
   ]
  },
  {
   "cell_type": "code",
   "execution_count": 4,
   "metadata": {
    "colab": {
     "base_uri": "https://localhost:8080/"
    },
    "id": "o_ASgTlBDCZ1",
    "outputId": "fa248ca6-e7f1-4f38-da17-dd50b3cb415a",
    "tags": [
     "hide-output"
    ]
   },
   "outputs": [],
   "source": [
    "from transformers import BertTokenizer\n",
    "\n",
    "\n",
    "tokenizer = BertTokenizer.from_pretrained('bert-base-uncased')\n",
    "\n",
    "# Tokenize the essays and convert them to tensors\n",
    "df['tokenized_essays'] = df['essay'].apply(lambda essay: tokenizer.encode(essay, add_special_tokens=True, truncation=True, max_length=512))\n",
    "df['tokenized_essays'] = df['tokenized_essays'].apply(lambda x: torch.tensor(x))\n",
    "\n",
    "# Determine the size of training data (80% for training, 20% for testing as an example)\n",
    "train_size = int(0.7 * len(df))\n",
    "\n",
    "# Now, when initializing the dataset, ensure you pass tensors\n",
    "train_dataset = EssayDataset(df['tokenized_essays'][:train_size].tolist(), df['human_avg_score'][:train_size].tolist())\n",
    "test_dataset = EssayDataset(df['tokenized_essays'][train_size:].tolist(), df['human_avg_score'][train_size:].tolist())\n",
    "\n",
    "# Define the collate function if not defined\n",
    "def collate_batch(batch):\n",
    "    essay_tensors, scores = zip(*batch)\n",
    "    essays_padded = pad_sequence(essay_tensors, batch_first=True, padding_value=0)\n",
    "    return essays_padded, torch.tensor(scores)\n",
    "\n",
    "# Data loaders with the proper collate function\n",
    "train_loader = DataLoader(train_dataset, batch_size=16, shuffle=True, collate_fn=collate_batch, num_workers=4, pin_memory=True)\n",
    "test_loader = DataLoader(test_dataset, batch_size=16, shuffle=False, collate_fn=collate_batch, num_workers=4, pin_memory=True)"
   ]
  },
  {
   "cell_type": "markdown",
   "metadata": {},
   "source": [
    "### Training the Model\n",
    "\n",
    "1. **Setup**:\n",
    "   - **Device Selection**: Determines whether to use a GPU or CPU for training.\n",
    "   - **Model and Optimizer Initialization**: Loads the essay scoring model and sets up the AdamW optimizer.\n",
    "   - **Loss Function**: Uses Mean Squared Error (MSE) to calculate the difference between predicted and actual scores.\n",
    "   - **Gradient Scaling**: Applies mixed precision training for efficiency.\n",
    "   - **Learning Rate Scheduler**: Gradually decreases the learning rate to improve training stability.\n",
    "   - **Early Stopping Criteria**: Stops training if no significant improvement is seen over a set number of epochs.\n",
    "\n",
    "2. **Training Loop**:\n",
    "   - Processes data in batches, making predictions and calculating loss.\n",
    "   - Updates the model weights periodically to simulate larger batch sizes.\n",
    "   - Adjusts the learning rate according to the scheduler.\n",
    "   - Tracks and prints the average loss for each epoch.\n",
    "\n",
    "3. **Model Saving and Early Stopping**:\n",
    "   - Saves the model when it shows improved performance.\n",
    "   - Stops training early if there are multiple epochs without significant loss improvement."
   ]
  },
  {
   "cell_type": "code",
   "execution_count": 5,
   "metadata": {
    "colab": {
     "base_uri": "https://localhost:8080/"
    },
    "id": "E2G8lbPEDCZ1",
    "outputId": "c2474929-2593-4f70-be9e-c209afaeecd5",
    "tags": [
     "hide-input"
    ]
   },
   "outputs": [
    {
     "name": "stderr",
     "output_type": "stream",
     "text": [
      "/Users/seanmccrossan/.pyenv/versions/3.10.4/envs/learnosity/lib/python3.10/site-packages/torch/amp/grad_scaler.py:131: UserWarning: torch.cuda.amp.GradScaler is enabled, but CUDA is not available.  Disabling.\n",
      "  warnings.warn(\n"
     ]
    },
    {
     "name": "stderr",
     "output_type": "stream",
     "text": [
      "Traceback (most recent call last):\n",
      "  File \"<string>\", line 1, in <module>\n",
      "  File \"/Users/seanmccrossan/.pyenv/versions/3.10.4/lib/python3.10/multiprocessing/spawn.py\", line 116, in spawn_main\n",
      "    exitcode = _main(fd, parent_sentinel)\n",
      "  File \"/Users/seanmccrossan/.pyenv/versions/3.10.4/lib/python3.10/multiprocessing/spawn.py\", line 126, in _main\n",
      "    self = reduction.pickle.load(from_parent)\n",
      "AttributeError: Can't get attribute 'EssayDataset' on <module '__main__' (built-in)>\n",
      "Traceback (most recent call last):\n",
      "  File \"<string>\", line 1, in <module>\n",
      "  File \"/Users/seanmccrossan/.pyenv/versions/3.10.4/lib/python3.10/multiprocessing/spawn.py\", line 116, in spawn_main\n",
      "    exitcode = _main(fd, parent_sentinel)\n",
      "  File \"/Users/seanmccrossan/.pyenv/versions/3.10.4/lib/python3.10/multiprocessing/spawn.py\", line 126, in _main\n",
      "    self = reduction.pickle.load(from_parent)\n",
      "AttributeError: Can't get attribute 'EssayDataset' on <module '__main__' (built-in)>\n",
      "Traceback (most recent call last):\n",
      "  File \"<string>\", line 1, in <module>\n",
      "  File \"/Users/seanmccrossan/.pyenv/versions/3.10.4/lib/python3.10/multiprocessing/spawn.py\", line 116, in spawn_main\n",
      "    exitcode = _main(fd, parent_sentinel)\n",
      "  File \"/Users/seanmccrossan/.pyenv/versions/3.10.4/lib/python3.10/multiprocessing/spawn.py\", line 126, in _main\n",
      "    self = reduction.pickle.load(from_parent)\n",
      "AttributeError: Can't get attribute 'EssayDataset' on <module '__main__' (built-in)>\n"
     ]
    },
    {
     "name": "stderr",
     "output_type": "stream",
     "text": [
      "Traceback (most recent call last):\n",
      "  File \"<string>\", line 1, in <module>\n",
      "  File \"/Users/seanmccrossan/.pyenv/versions/3.10.4/lib/python3.10/multiprocessing/spawn.py\", line 116, in spawn_main\n",
      "    exitcode = _main(fd, parent_sentinel)\n",
      "  File \"/Users/seanmccrossan/.pyenv/versions/3.10.4/lib/python3.10/multiprocessing/spawn.py\", line 126, in _main\n",
      "    self = reduction.pickle.load(from_parent)\n",
      "AttributeError: Can't get attribute 'EssayDataset' on <module '__main__' (built-in)>\n"
     ]
    },
    {
     "ename": "RuntimeError",
     "evalue": "DataLoader worker (pid(s) 9275) exited unexpectedly",
     "output_type": "error",
     "traceback": [
      "\u001b[0;31m---------------------------------------------------------------------------\u001b[0m",
      "\u001b[0;31mRuntimeError\u001b[0m                              Traceback (most recent call last)",
      "File \u001b[0;32m~/.pyenv/versions/3.10.4/envs/learnosity/lib/python3.10/site-packages/torch/utils/data/dataloader.py:1133\u001b[0m, in \u001b[0;36m_MultiProcessingDataLoaderIter._try_get_data\u001b[0;34m(self, timeout)\u001b[0m\n\u001b[1;32m   1132\u001b[0m \u001b[38;5;28;01mtry\u001b[39;00m:\n\u001b[0;32m-> 1133\u001b[0m     data \u001b[38;5;241m=\u001b[39m \u001b[38;5;28;43mself\u001b[39;49m\u001b[38;5;241;43m.\u001b[39;49m\u001b[43m_data_queue\u001b[49m\u001b[38;5;241;43m.\u001b[39;49m\u001b[43mget\u001b[49m\u001b[43m(\u001b[49m\u001b[43mtimeout\u001b[49m\u001b[38;5;241;43m=\u001b[39;49m\u001b[43mtimeout\u001b[49m\u001b[43m)\u001b[49m\n\u001b[1;32m   1134\u001b[0m     \u001b[38;5;28;01mreturn\u001b[39;00m (\u001b[38;5;28;01mTrue\u001b[39;00m, data)\n",
      "File \u001b[0;32m~/.pyenv/versions/3.10.4/lib/python3.10/multiprocessing/queues.py:113\u001b[0m, in \u001b[0;36mQueue.get\u001b[0;34m(self, block, timeout)\u001b[0m\n\u001b[1;32m    112\u001b[0m timeout \u001b[38;5;241m=\u001b[39m deadline \u001b[38;5;241m-\u001b[39m time\u001b[38;5;241m.\u001b[39mmonotonic()\n\u001b[0;32m--> 113\u001b[0m \u001b[38;5;28;01mif\u001b[39;00m \u001b[38;5;129;01mnot\u001b[39;00m \u001b[38;5;28;43mself\u001b[39;49m\u001b[38;5;241;43m.\u001b[39;49m\u001b[43m_poll\u001b[49m\u001b[43m(\u001b[49m\u001b[43mtimeout\u001b[49m\u001b[43m)\u001b[49m:\n\u001b[1;32m    114\u001b[0m     \u001b[38;5;28;01mraise\u001b[39;00m Empty\n",
      "File \u001b[0;32m~/.pyenv/versions/3.10.4/lib/python3.10/multiprocessing/connection.py:262\u001b[0m, in \u001b[0;36m_ConnectionBase.poll\u001b[0;34m(self, timeout)\u001b[0m\n\u001b[1;32m    261\u001b[0m \u001b[38;5;28mself\u001b[39m\u001b[38;5;241m.\u001b[39m_check_readable()\n\u001b[0;32m--> 262\u001b[0m \u001b[38;5;28;01mreturn\u001b[39;00m \u001b[38;5;28;43mself\u001b[39;49m\u001b[38;5;241;43m.\u001b[39;49m\u001b[43m_poll\u001b[49m\u001b[43m(\u001b[49m\u001b[43mtimeout\u001b[49m\u001b[43m)\u001b[49m\n",
      "File \u001b[0;32m~/.pyenv/versions/3.10.4/lib/python3.10/multiprocessing/connection.py:429\u001b[0m, in \u001b[0;36mConnection._poll\u001b[0;34m(self, timeout)\u001b[0m\n\u001b[1;32m    428\u001b[0m \u001b[38;5;28;01mdef\u001b[39;00m \u001b[38;5;21m_poll\u001b[39m(\u001b[38;5;28mself\u001b[39m, timeout):\n\u001b[0;32m--> 429\u001b[0m     r \u001b[38;5;241m=\u001b[39m \u001b[43mwait\u001b[49m\u001b[43m(\u001b[49m\u001b[43m[\u001b[49m\u001b[38;5;28;43mself\u001b[39;49m\u001b[43m]\u001b[49m\u001b[43m,\u001b[49m\u001b[43m \u001b[49m\u001b[43mtimeout\u001b[49m\u001b[43m)\u001b[49m\n\u001b[1;32m    430\u001b[0m     \u001b[38;5;28;01mreturn\u001b[39;00m \u001b[38;5;28mbool\u001b[39m(r)\n",
      "File \u001b[0;32m~/.pyenv/versions/3.10.4/lib/python3.10/multiprocessing/connection.py:936\u001b[0m, in \u001b[0;36mwait\u001b[0;34m(object_list, timeout)\u001b[0m\n\u001b[1;32m    935\u001b[0m \u001b[38;5;28;01mwhile\u001b[39;00m \u001b[38;5;28;01mTrue\u001b[39;00m:\n\u001b[0;32m--> 936\u001b[0m     ready \u001b[38;5;241m=\u001b[39m \u001b[43mselector\u001b[49m\u001b[38;5;241;43m.\u001b[39;49m\u001b[43mselect\u001b[49m\u001b[43m(\u001b[49m\u001b[43mtimeout\u001b[49m\u001b[43m)\u001b[49m\n\u001b[1;32m    937\u001b[0m     \u001b[38;5;28;01mif\u001b[39;00m ready:\n",
      "File \u001b[0;32m~/.pyenv/versions/3.10.4/lib/python3.10/selectors.py:416\u001b[0m, in \u001b[0;36m_PollLikeSelector.select\u001b[0;34m(self, timeout)\u001b[0m\n\u001b[1;32m    415\u001b[0m \u001b[38;5;28;01mtry\u001b[39;00m:\n\u001b[0;32m--> 416\u001b[0m     fd_event_list \u001b[38;5;241m=\u001b[39m \u001b[38;5;28;43mself\u001b[39;49m\u001b[38;5;241;43m.\u001b[39;49m\u001b[43m_selector\u001b[49m\u001b[38;5;241;43m.\u001b[39;49m\u001b[43mpoll\u001b[49m\u001b[43m(\u001b[49m\u001b[43mtimeout\u001b[49m\u001b[43m)\u001b[49m\n\u001b[1;32m    417\u001b[0m \u001b[38;5;28;01mexcept\u001b[39;00m \u001b[38;5;167;01mInterruptedError\u001b[39;00m:\n",
      "File \u001b[0;32m~/.pyenv/versions/3.10.4/envs/learnosity/lib/python3.10/site-packages/torch/utils/data/_utils/signal_handling.py:66\u001b[0m, in \u001b[0;36m_set_SIGCHLD_handler.<locals>.handler\u001b[0;34m(signum, frame)\u001b[0m\n\u001b[1;32m     63\u001b[0m \u001b[38;5;28;01mdef\u001b[39;00m \u001b[38;5;21mhandler\u001b[39m(signum, frame):\n\u001b[1;32m     64\u001b[0m     \u001b[38;5;66;03m# This following call uses `waitid` with WNOHANG from C side. Therefore,\u001b[39;00m\n\u001b[1;32m     65\u001b[0m     \u001b[38;5;66;03m# Python can still get and update the process status successfully.\u001b[39;00m\n\u001b[0;32m---> 66\u001b[0m     \u001b[43m_error_if_any_worker_fails\u001b[49m\u001b[43m(\u001b[49m\u001b[43m)\u001b[49m\n\u001b[1;32m     67\u001b[0m     \u001b[38;5;28;01mif\u001b[39;00m previous_handler \u001b[38;5;129;01mis\u001b[39;00m \u001b[38;5;129;01mnot\u001b[39;00m \u001b[38;5;28;01mNone\u001b[39;00m:\n",
      "\u001b[0;31mRuntimeError\u001b[0m: DataLoader worker (pid 9275) exited unexpectedly with exit code 1. Details are lost due to multiprocessing. Rerunning with num_workers=0 may give better error trace.",
      "\nThe above exception was the direct cause of the following exception:\n",
      "\u001b[0;31mRuntimeError\u001b[0m                              Traceback (most recent call last)",
      "Cell \u001b[0;32mIn[5], line 26\u001b[0m\n\u001b[1;32m     24\u001b[0m model\u001b[38;5;241m.\u001b[39mtrain()\n\u001b[1;32m     25\u001b[0m total_loss \u001b[38;5;241m=\u001b[39m \u001b[38;5;241m0\u001b[39m\n\u001b[0;32m---> 26\u001b[0m \u001b[38;5;28;01mfor\u001b[39;00m i, (essays, scores) \u001b[38;5;129;01min\u001b[39;00m \u001b[38;5;28menumerate\u001b[39m(train_loader):\n\u001b[1;32m     27\u001b[0m     essays \u001b[38;5;241m=\u001b[39m essays\u001b[38;5;241m.\u001b[39mto(device)\n\u001b[1;32m     28\u001b[0m     scores \u001b[38;5;241m=\u001b[39m scores\u001b[38;5;241m.\u001b[39mto(device)\u001b[38;5;241m.\u001b[39mfloat()\n",
      "File \u001b[0;32m~/.pyenv/versions/3.10.4/envs/learnosity/lib/python3.10/site-packages/torch/utils/data/dataloader.py:631\u001b[0m, in \u001b[0;36m_BaseDataLoaderIter.__next__\u001b[0;34m(self)\u001b[0m\n\u001b[1;32m    628\u001b[0m \u001b[38;5;28;01mif\u001b[39;00m \u001b[38;5;28mself\u001b[39m\u001b[38;5;241m.\u001b[39m_sampler_iter \u001b[38;5;129;01mis\u001b[39;00m \u001b[38;5;28;01mNone\u001b[39;00m:\n\u001b[1;32m    629\u001b[0m     \u001b[38;5;66;03m# TODO(https://github.com/pytorch/pytorch/issues/76750)\u001b[39;00m\n\u001b[1;32m    630\u001b[0m     \u001b[38;5;28mself\u001b[39m\u001b[38;5;241m.\u001b[39m_reset()  \u001b[38;5;66;03m# type: ignore[call-arg]\u001b[39;00m\n\u001b[0;32m--> 631\u001b[0m data \u001b[38;5;241m=\u001b[39m \u001b[38;5;28;43mself\u001b[39;49m\u001b[38;5;241;43m.\u001b[39;49m\u001b[43m_next_data\u001b[49m\u001b[43m(\u001b[49m\u001b[43m)\u001b[49m\n\u001b[1;32m    632\u001b[0m \u001b[38;5;28mself\u001b[39m\u001b[38;5;241m.\u001b[39m_num_yielded \u001b[38;5;241m+\u001b[39m\u001b[38;5;241m=\u001b[39m \u001b[38;5;241m1\u001b[39m\n\u001b[1;32m    633\u001b[0m \u001b[38;5;28;01mif\u001b[39;00m \u001b[38;5;28mself\u001b[39m\u001b[38;5;241m.\u001b[39m_dataset_kind \u001b[38;5;241m==\u001b[39m _DatasetKind\u001b[38;5;241m.\u001b[39mIterable \u001b[38;5;129;01mand\u001b[39;00m \\\n\u001b[1;32m    634\u001b[0m         \u001b[38;5;28mself\u001b[39m\u001b[38;5;241m.\u001b[39m_IterableDataset_len_called \u001b[38;5;129;01mis\u001b[39;00m \u001b[38;5;129;01mnot\u001b[39;00m \u001b[38;5;28;01mNone\u001b[39;00m \u001b[38;5;129;01mand\u001b[39;00m \\\n\u001b[1;32m    635\u001b[0m         \u001b[38;5;28mself\u001b[39m\u001b[38;5;241m.\u001b[39m_num_yielded \u001b[38;5;241m>\u001b[39m \u001b[38;5;28mself\u001b[39m\u001b[38;5;241m.\u001b[39m_IterableDataset_len_called:\n",
      "File \u001b[0;32m~/.pyenv/versions/3.10.4/envs/learnosity/lib/python3.10/site-packages/torch/utils/data/dataloader.py:1329\u001b[0m, in \u001b[0;36m_MultiProcessingDataLoaderIter._next_data\u001b[0;34m(self)\u001b[0m\n\u001b[1;32m   1326\u001b[0m     \u001b[38;5;28;01mreturn\u001b[39;00m \u001b[38;5;28mself\u001b[39m\u001b[38;5;241m.\u001b[39m_process_data(data)\n\u001b[1;32m   1328\u001b[0m \u001b[38;5;28;01massert\u001b[39;00m \u001b[38;5;129;01mnot\u001b[39;00m \u001b[38;5;28mself\u001b[39m\u001b[38;5;241m.\u001b[39m_shutdown \u001b[38;5;129;01mand\u001b[39;00m \u001b[38;5;28mself\u001b[39m\u001b[38;5;241m.\u001b[39m_tasks_outstanding \u001b[38;5;241m>\u001b[39m \u001b[38;5;241m0\u001b[39m\n\u001b[0;32m-> 1329\u001b[0m idx, data \u001b[38;5;241m=\u001b[39m \u001b[38;5;28;43mself\u001b[39;49m\u001b[38;5;241;43m.\u001b[39;49m\u001b[43m_get_data\u001b[49m\u001b[43m(\u001b[49m\u001b[43m)\u001b[49m\n\u001b[1;32m   1330\u001b[0m \u001b[38;5;28mself\u001b[39m\u001b[38;5;241m.\u001b[39m_tasks_outstanding \u001b[38;5;241m-\u001b[39m\u001b[38;5;241m=\u001b[39m \u001b[38;5;241m1\u001b[39m\n\u001b[1;32m   1331\u001b[0m \u001b[38;5;28;01mif\u001b[39;00m \u001b[38;5;28mself\u001b[39m\u001b[38;5;241m.\u001b[39m_dataset_kind \u001b[38;5;241m==\u001b[39m _DatasetKind\u001b[38;5;241m.\u001b[39mIterable:\n\u001b[1;32m   1332\u001b[0m     \u001b[38;5;66;03m# Check for _IterableDatasetStopIteration\u001b[39;00m\n",
      "File \u001b[0;32m~/.pyenv/versions/3.10.4/envs/learnosity/lib/python3.10/site-packages/torch/utils/data/dataloader.py:1295\u001b[0m, in \u001b[0;36m_MultiProcessingDataLoaderIter._get_data\u001b[0;34m(self)\u001b[0m\n\u001b[1;32m   1291\u001b[0m     \u001b[38;5;66;03m# In this case, `self._data_queue` is a `queue.Queue`,. But we don't\u001b[39;00m\n\u001b[1;32m   1292\u001b[0m     \u001b[38;5;66;03m# need to call `.task_done()` because we don't use `.join()`.\u001b[39;00m\n\u001b[1;32m   1293\u001b[0m \u001b[38;5;28;01melse\u001b[39;00m:\n\u001b[1;32m   1294\u001b[0m     \u001b[38;5;28;01mwhile\u001b[39;00m \u001b[38;5;28;01mTrue\u001b[39;00m:\n\u001b[0;32m-> 1295\u001b[0m         success, data \u001b[38;5;241m=\u001b[39m \u001b[38;5;28;43mself\u001b[39;49m\u001b[38;5;241;43m.\u001b[39;49m\u001b[43m_try_get_data\u001b[49m\u001b[43m(\u001b[49m\u001b[43m)\u001b[49m\n\u001b[1;32m   1296\u001b[0m         \u001b[38;5;28;01mif\u001b[39;00m success:\n\u001b[1;32m   1297\u001b[0m             \u001b[38;5;28;01mreturn\u001b[39;00m data\n",
      "File \u001b[0;32m~/.pyenv/versions/3.10.4/envs/learnosity/lib/python3.10/site-packages/torch/utils/data/dataloader.py:1146\u001b[0m, in \u001b[0;36m_MultiProcessingDataLoaderIter._try_get_data\u001b[0;34m(self, timeout)\u001b[0m\n\u001b[1;32m   1144\u001b[0m \u001b[38;5;28;01mif\u001b[39;00m \u001b[38;5;28mlen\u001b[39m(failed_workers) \u001b[38;5;241m>\u001b[39m \u001b[38;5;241m0\u001b[39m:\n\u001b[1;32m   1145\u001b[0m     pids_str \u001b[38;5;241m=\u001b[39m \u001b[38;5;124m'\u001b[39m\u001b[38;5;124m, \u001b[39m\u001b[38;5;124m'\u001b[39m\u001b[38;5;241m.\u001b[39mjoin(\u001b[38;5;28mstr\u001b[39m(w\u001b[38;5;241m.\u001b[39mpid) \u001b[38;5;28;01mfor\u001b[39;00m w \u001b[38;5;129;01min\u001b[39;00m failed_workers)\n\u001b[0;32m-> 1146\u001b[0m     \u001b[38;5;28;01mraise\u001b[39;00m \u001b[38;5;167;01mRuntimeError\u001b[39;00m(\u001b[38;5;124mf\u001b[39m\u001b[38;5;124m'\u001b[39m\u001b[38;5;124mDataLoader worker (pid(s) \u001b[39m\u001b[38;5;132;01m{\u001b[39;00mpids_str\u001b[38;5;132;01m}\u001b[39;00m\u001b[38;5;124m) exited unexpectedly\u001b[39m\u001b[38;5;124m'\u001b[39m) \u001b[38;5;28;01mfrom\u001b[39;00m \u001b[38;5;21;01me\u001b[39;00m\n\u001b[1;32m   1147\u001b[0m \u001b[38;5;28;01mif\u001b[39;00m \u001b[38;5;28misinstance\u001b[39m(e, queue\u001b[38;5;241m.\u001b[39mEmpty):\n\u001b[1;32m   1148\u001b[0m     \u001b[38;5;28;01mreturn\u001b[39;00m (\u001b[38;5;28;01mFalse\u001b[39;00m, \u001b[38;5;28;01mNone\u001b[39;00m)\n",
      "\u001b[0;31mRuntimeError\u001b[0m: DataLoader worker (pid(s) 9275) exited unexpectedly"
     ]
    }
   ],
   "source": [
    "from torch.optim import AdamW\n",
    "from torch.optim.lr_scheduler import StepLR\n",
    "from torch.nn import MSELoss\n",
    "from torch.cuda.amp import GradScaler, autocast\n",
    "import numpy as np\n",
    "\n",
    "device = torch.device(\"cuda\" if torch.cuda.is_available() else \"cpu\")\n",
    "model = EssayScoringModel().to(device)\n",
    "optimizer = AdamW(model.parameters(), lr=1e-4)  # Using AdamW optimizer with a different learning rate\n",
    "criterion = MSELoss()\n",
    "scaler = GradScaler()  # For mixed precision training\n",
    "\n",
    "scheduler = StepLR(optimizer, step_size=10, gamma=0.1)  # Decays the learning rate of each parameter group by gamma every step_size epochs\n",
    "\n",
    "best_loss = float('inf')\n",
    "patience = 5  # Number of epochs to wait for improvement before stopping\n",
    "no_improvement_epochs = 0\n",
    "improvement_threshold = 1e-4  # Minimum change to be considered an improvement\n",
    "accumulation_steps = 4\n",
    "optimizer.zero_grad()\n",
    "losses = []  # List to store the average loss of each epoch\n",
    "\n",
    "for epoch in range(50):\n",
    "    model.train()\n",
    "    total_loss = 0\n",
    "    for i, (essays, scores) in enumerate(train_loader):\n",
    "        essays = essays.to(device)\n",
    "        scores = scores.to(device).float()\n",
    "\n",
    "        with autocast():\n",
    "            predictions = model(essays).squeeze()\n",
    "            loss = criterion(predictions, scores) / accumulation_steps\n",
    "\n",
    "        scaler.scale(loss).backward()\n",
    "\n",
    "        if (i + 1) % accumulation_steps == 0:\n",
    "            scaler.step(optimizer)\n",
    "            scaler.update()\n",
    "            optimizer.zero_grad()\n",
    "\n",
    "        total_loss += loss.item() * accumulation_steps\n",
    "\n",
    "    avg_loss = total_loss / len(train_loader)\n",
    "    losses.append(avg_loss)  # Append the average loss\n",
    "    scheduler.step()  # Adjust the learning rate based on the number of epochs\n",
    "    print(f\"Epoch {epoch}, Loss: {avg_loss}, LR: {scheduler.get_last_lr()}\")\n",
    "\n",
    "    if avg_loss < best_loss - improvement_threshold:\n",
    "        best_loss = avg_loss\n",
    "        no_improvement_epochs = 0\n",
    "        torch.save(model.state_dict(), 'essay_scoring_model.pth')\n",
    "        print(\"Saved improved model with loss: {:.4f}\".format(best_loss))\n",
    "    else:\n",
    "        no_improvement_epochs += 1\n",
    "\n",
    "    if no_improvement_epochs >= patience:\n",
    "        print(f\"Early stopping triggered after {epoch + 1} epochs\")\n",
    "        break\n"
   ]
  },
  {
   "cell_type": "code",
   "execution_count": 8,
   "metadata": {
    "colab": {
     "base_uri": "https://localhost:8080/",
     "height": 458
    },
    "id": "A2saFa_BFvrd",
    "outputId": "0ba7dd82-829a-4df2-ea98-51d641c6062b",
    "tags": [
     "remove-input"
    ]
   },
   "outputs": [
    {
     "data": {
      "image/png": "[encoded data removed]",
      "text/plain": [
       "<Figure size 1000x500 with 1 Axes>"
      ]
     },
     "metadata": {},
     "output_type": "display_data"
    }
   ],
   "source": [
    "import matplotlib.pyplot as plt\n",
    "\n",
    "# Plotting the training losses\n",
    "plt.figure(figsize=(10, 5))\n",
    "plt.plot(losses, label='Training Loss')\n",
    "plt.title('Loss over Epochs')\n",
    "plt.xlabel('Epochs')\n",
    "plt.ylabel('Loss')\n",
    "plt.legend()\n",
    "plt.grid(True)\n",
    "plt.show()\n"
   ]
  },
  {
   "cell_type": "markdown",
   "metadata": {
    "id": "NXcXT89NIioR"
   },
   "source": [
    "### Loading the Model\n"
   ]
  },
  {
   "cell_type": "code",
   "execution_count": 9,
   "metadata": {
    "colab": {
     "base_uri": "https://localhost:8080/"
    },
    "id": "ppZquN1sIh7o",
    "outputId": "83d11ac3-f892-47ed-d7f8-f3f527b93505",
    "tags": [
     "hide-input"
    ]
   },
   "outputs": [
    {
     "data": {
      "text/plain": [
       "EssayScoringModel(\n",
       "  (bert): BertModel(\n",
       "    (embeddings): BertEmbeddings(\n",
       "      (word_embeddings): Embedding(30522, 768, padding_idx=0)\n",
       "      (position_embeddings): Embedding(512, 768)\n",
       "      (token_type_embeddings): Embedding(2, 768)\n",
       "      (LayerNorm): LayerNorm((768,), eps=1e-12, elementwise_affine=True)\n",
       "      (dropout): Dropout(p=0.1, inplace=False)\n",
       "    )\n",
       "    (encoder): BertEncoder(\n",
       "      (layer): ModuleList(\n",
       "        (0-11): 12 x BertLayer(\n",
       "          (attention): BertAttention(\n",
       "            (self): BertSdpaSelfAttention(\n",
       "              (query): Linear(in_features=768, out_features=768, bias=True)\n",
       "              (key): Linear(in_features=768, out_features=768, bias=True)\n",
       "              (value): Linear(in_features=768, out_features=768, bias=True)\n",
       "              (dropout): Dropout(p=0.1, inplace=False)\n",
       "            )\n",
       "            (output): BertSelfOutput(\n",
       "              (dense): Linear(in_features=768, out_features=768, bias=True)\n",
       "              (LayerNorm): LayerNorm((768,), eps=1e-12, elementwise_affine=True)\n",
       "              (dropout): Dropout(p=0.1, inplace=False)\n",
       "            )\n",
       "          )\n",
       "          (intermediate): BertIntermediate(\n",
       "            (dense): Linear(in_features=768, out_features=3072, bias=True)\n",
       "            (intermediate_act_fn): GELUActivation()\n",
       "          )\n",
       "          (output): BertOutput(\n",
       "            (dense): Linear(in_features=3072, out_features=768, bias=True)\n",
       "            (LayerNorm): LayerNorm((768,), eps=1e-12, elementwise_affine=True)\n",
       "            (dropout): Dropout(p=0.1, inplace=False)\n",
       "          )\n",
       "        )\n",
       "      )\n",
       "    )\n",
       "    (pooler): BertPooler(\n",
       "      (dense): Linear(in_features=768, out_features=768, bias=True)\n",
       "      (activation): Tanh()\n",
       "    )\n",
       "  )\n",
       "  (regressor): Linear(in_features=768, out_features=1, bias=True)\n",
       ")"
      ]
     },
     "execution_count": 9,
     "metadata": {},
     "output_type": "execute_result"
    }
   ],
   "source": [
    "model = EssayScoringModel().to(device)\n",
    "model.load_state_dict(torch.load('essay_scoring_model.pth'))\n",
    "model.eval()"
   ]
  },
  {
   "cell_type": "code",
   "execution_count": 10,
   "metadata": {
    "id": "1__JanL2Iknc",
    "tags": [
     "hide-input"
    ]
   },
   "outputs": [],
   "source": [
    "test_scores = []\n",
    "actual_scores = []\n",
    "\n",
    "with torch.no_grad():  # Disable gradient computation for inference\n",
    "    for essays, scores in test_loader:\n",
    "        essays = essays.to(device)\n",
    "        scores = scores.to(device)\n",
    "\n",
    "        predictions = model(essays).squeeze()\n",
    "        test_scores.extend(predictions.cpu().numpy())  # Store predictions\n",
    "        actual_scores.extend(scores.cpu().numpy())  # Store actual scores\n"
   ]
  },
  {
   "cell_type": "markdown",
   "metadata": {},
   "source": [
    "### Model Evaluation Results\n",
    "\n",
    "These results compare the model's predicted test scores with the actual test scores:\n",
    "\n",
    "- **Mean Squared Error (MSE): 2.02**\n",
    "  - This value indicates the average squared difference between the predicted and actual scores. A lower MSE signifies better accuracy. In this case, the average squared error is relatively low, suggesting decent prediction performance.\n",
    "\n",
    "- **Mean Absolute Error (MAE): 1.05**\n",
    "  - This value measures the average absolute difference between the predicted and actual scores. A lower MAE indicates more precise predictions. Here, the average error is about 1 point, which indicates reasonably accurate predictions.\n",
    "\n",
    "- **Root Mean Squared Error (RMSE): 1.42**\n",
    "  - This metric gives the square root of the average squared differences between predicted and actual scores. It is sensitive to larger errors, indicating that the model’s predictions are, on average, 1.42 points off.\n",
    "\n",
    "- **R-squared Score: 0.60**\n",
    "  - This metric indicates how well the model's predictions explain the variability of the actual scores. An R-squared value of 0.60 means that the model explains 60% of the variance in the actual scores, demonstrating a good but not perfect fit.\n",
    "\n",
    "- **Quadratic Weighted Kappa (QWK): 0.79**\n",
    "  - This metric measures the agreement between the predicted and actual scores while accounting for the agreement occurring by chance. A QWK of 0.79 indicates a high level of agreement, suggesting that the model's predictions are close to the actual scores.\n",
    "\n",
    "- **Pearson Correlation: 0.79**\n",
    "  - This value indicates a strong positive linear relationship between the predicted and actual scores. The high correlation, with a very low P-value, suggests that the model's predictions are highly aligned with the actual scores.\n",
    "\n",
    "- **Spearman Correlation: 0.79**\n",
    "  - This value measures the rank-order relationship between the predicted and actual scores. A high Spearman correlation, with a very low P-value, indicates that the model's predictions preserve the order of the actual scores well.\n",
    "\n",
    "### Summary\n",
    "- The model shows reasonably accurate predictions with low average errors (MAE of 1.05 and RMSE of 1.42).\n",
    "- It explains 60% of the variance in the actual scores, indicating a good fit.\n",
    "- The high Quadratic Weighted Kappa (0.79) suggests strong agreement with actual scores.\n",
    "- Both Pearson (0.79) and Spearman (0.79) correlations indicate a strong alignment between predicted and actual scores."
   ]
  },
  {
   "cell_type": "code",
   "execution_count": 11,
   "metadata": {
    "colab": {
     "base_uri": "https://localhost:8080/"
    },
    "id": "15gTtBGIItNv",
    "outputId": "2b182f7f-2fc8-4713-fd71-b0e8df4a241c",
    "tags": [
     "remove-input"
    ]
   },
   "outputs": [
    {
     "name": "stdout",
     "output_type": "stream",
     "text": [
      "Mean Squared Error: 2.0215983390808105\n",
      "Mean Absolute Error: 1.0539957284927368\n",
      "R-squared Score: 0.5987868262558772\n"
     ]
    }
   ],
   "source": [
    "from sklearn.metrics import mean_squared_error, mean_absolute_error, r2_score\n",
    "\n",
    "# Convert predictions and actual scores to the correct format\n",
    "test_scores = np.round(test_scores)  # Round predictions to the nearest whole number\n",
    "\n",
    "# Calculate MSE and other relevant metrics\n",
    "mse = mean_squared_error(actual_scores, test_scores)\n",
    "mae = mean_absolute_error(actual_scores, test_scores)\n",
    "r2 = r2_score(actual_scores, test_scores)  # Coefficient of determination\n",
    "\n",
    "print(f\"Mean Squared Error: {mse}\")\n",
    "print(f\"Mean Absolute Error: {mae}\")\n",
    "print(f\"R-squared Score: {r2}\")\n"
   ]
  },
  {
   "cell_type": "code",
   "execution_count": 12,
   "metadata": {
    "colab": {
     "base_uri": "https://localhost:8080/",
     "height": 530
    },
    "id": "z464jptQIx2m",
    "outputId": "f2f2f4ba-c83f-4d41-9bb2-68c16156b1b1",
    "tags": [
     "remove-input"
    ]
   },
   "outputs": [
    {
     "data": {
      "image/png": "[encoded data removed]",
      "text/plain": [
       "<Figure size 1000x600 with 1 Axes>"
      ]
     },
     "metadata": {},
     "output_type": "display_data"
    }
   ],
   "source": [
    "import matplotlib.pyplot as plt\n",
    "\n",
    "plt.figure(figsize=(10, 6))\n",
    "plt.scatter(actual_scores, test_scores, alpha=0.5)\n",
    "plt.title('Comparison of Actual and Predicted Scores')\n",
    "plt.xlabel('Actual Scores')\n",
    "plt.ylabel('Predicted Scores')\n",
    "plt.grid(True)\n",
    "plt.show()\n"
   ]
  },
  {
   "cell_type": "code",
   "execution_count": 13,
   "metadata": {
    "colab": {
     "base_uri": "https://localhost:8080/",
     "height": 512
    },
    "id": "FLi8Kj9dJtN7",
    "outputId": "355498dd-c705-4f82-d291-c13198204623",
    "tags": [
     "remove-input"
    ]
   },
   "outputs": [
    {
     "data": {
      "image/png": "[encoded data removed]",
      "text/plain": [
       "<Figure size 1000x600 with 1 Axes>"
      ]
     },
     "metadata": {},
     "output_type": "display_data"
    }
   ],
   "source": [
    "import seaborn as sns\n",
    "\n",
    "# Create a DataFrame for plotting\n",
    "plot_data = pd.DataFrame({\n",
    "    'Actual Scores': actual_scores,\n",
    "    'Predicted Scores': test_scores\n",
    "})\n",
    "\n",
    "# Create a box plot\n",
    "plt.figure(figsize=(10, 6))\n",
    "sns.boxplot(data=plot_data)\n",
    "plt.title('Box Plot of Actual vs. Predicted Scores')\n",
    "plt.ylabel('Scores')\n",
    "plt.grid(True)\n",
    "plt.show()"
   ]
  },
  {
   "cell_type": "code",
   "execution_count": 14,
   "metadata": {
    "colab": {
     "base_uri": "https://localhost:8080/"
    },
    "id": "kxw1CV2oKcxz",
    "outputId": "e87a5644-0c55-4072-e28b-a7da9ced9d93",
    "tags": [
     "remove-input"
    ]
   },
   "outputs": [
    {
     "name": "stdout",
     "output_type": "stream",
     "text": [
      "Quadratic Weighted Kappa: 0.7878355275912512\n",
      "Pearson Correlation: 0.7915250425184396, P-value: 1.2040074218729757e-100\n",
      "Spearman Correlation: 0.7862093631407931, P-value: 2.0255296217693547e-98\n",
      "Mean Absolute Error: 1.0539957284927368\n",
      "Root Mean Squared Error: 1.4218292236328125\n"
     ]
    }
   ],
   "source": [
    "from sklearn.metrics import mean_absolute_error, mean_squared_error, cohen_kappa_score\n",
    "from scipy.stats import pearsonr, spearmanr\n",
    "import numpy as np\n",
    "\n",
    "\n",
    "\n",
    "# Calculate Quadratic Weighted Kappa\n",
    "qwk_total = cohen_kappa_score(actual_scores, test_scores, weights='quadratic')\n",
    "print(f\"Quadratic Weighted Kappa: {qwk_total}\")\n",
    "\n",
    "# Calculate Pearson and Spearman correlations\n",
    "pearson_corr_total, p_pearson_total = pearsonr(actual_scores, test_scores)\n",
    "spearman_corr_total, p_spearman_total = spearmanr(actual_scores, test_scores)\n",
    "print(f\"Pearson Correlation: {pearson_corr_total}, P-value: {p_pearson_total}\")\n",
    "print(f\"Spearman Correlation: {spearman_corr_total}, P-value: {p_spearman_total}\")\n",
    "\n",
    "# Calculate MAE and RMSE\n",
    "mae_total = mean_absolute_error(actual_scores, test_scores)\n",
    "rmse_total = np.sqrt(mean_squared_error(actual_scores, test_scores))\n",
    "print(f\"Mean Absolute Error: {mae_total}\")\n",
    "print(f\"Root Mean Squared Error: {rmse_total}\")\n"
   ]
  }
 ],
 "metadata": {
  "accelerator": "GPU",
  "colab": {
   "gpuType": "A100",
   "provenance": []
  },
  "kernelspec": {
   "display_name": "Python 3",
   "name": "python3"
  },
  "language_info": {
   "codemirror_mode": {
    "name": "ipython",
    "version": 3
   },
   "file_extension": ".py",
   "mimetype": "text/x-python",
   "name": "python",
   "nbconvert_exporter": "python",
   "pygments_lexer": "ipython3",
   "version": "3.10.4"
  },
  "vscode": {
   "interpreter": {
    "hash": "a7606f2e79e99788f9ac4cb83787bcdfa8d4cd408aa32b3f2db636f5a95a41ef"
   }
  }
 },
 "nbformat": 4,
 "nbformat_minor": 0
}